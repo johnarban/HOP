{
 "cells": [
  {
   "cell_type": "markdown",
   "id": "7ca2f02a-c531-41b0-bcc7-ecf0fa9073ca",
   "metadata": {},
   "source": [
    "# Set data directory"
   ]
  },
  {
   "cell_type": "code",
   "execution_count": 12,
   "id": "3dc6ab7a-fcc9-4944-b4e0-6fb4a647f75d",
   "metadata": {},
   "outputs": [],
   "source": [
    "data_dir = '2021_10_06_test_data'\n",
    "\n",
    "# make switch between 'upper' and 'lower' to match display\n",
    "plt.rc('image',origin='upper')"
   ]
  },
  {
   "cell_type": "code",
   "execution_count": 9,
   "id": "58c653c7-e7df-4baa-ae19-37b40d7de367",
   "metadata": {},
   "outputs": [],
   "source": [
    "# grab all the fits files\n",
    "files = glob.glob(os.path.join(data_dir,'*.FIT'))"
   ]
  },
  {
   "cell_type": "code",
   "execution_count": null,
   "id": "ad1d4bb6-470f-4191-9722-e3d1ca6d2c4b",
   "metadata": {},
   "outputs": [],
   "source": []
  },
  {
   "cell_type": "code",
   "execution_count": null,
   "id": "9065da28-f203-41b3-b2ee-444924915eee",
   "metadata": {},
   "outputs": [],
   "source": [
    "# List the object in each file\n",
    "for f in files:\n",
    "    with fits.open(f) as hdu:\n",
    "        print('{:<80s}'.format(f),hdu[0].header['OBJECT'])"
   ]
  },
  {
   "cell_type": "code",
   "execution_count": null,
   "id": "07c13a7b-9dfe-461b-9c0c-bbf0553f0e99",
   "metadata": {},
   "outputs": [],
   "source": [
    "# make a little gallery of object\n",
    "fig, axs = plt.subplots(int(len(files)/4 + 1),4,figsize=(13,13))\n",
    "for i,f in enumerate(files):\n",
    "    with fits.open(f) as hdu:\n",
    "        axs.flat[i].imshow(hdu[0].data,cmap='turbo',norm=mpl.colors.LogNorm(vmin=100,vmax=65000/2))\n",
    "        axs.flat[i].set_title(os.path.basename(f)[:-4])"
   ]
  },
  {
   "cell_type": "code",
   "execution_count": null,
   "id": "57e1c1b2-4da6-441a-8ae2-d789a6a0c395",
   "metadata": {},
   "outputs": [],
   "source": []
  },
  {
   "cell_type": "code",
   "execution_count": null,
   "id": "e13441e1-3f27-421f-99dd-6afb69ea0537",
   "metadata": {},
   "outputs": [],
   "source": [
    "# Get all of our helper functions\n",
    "%run helper_funcs\n",
    "%run plot_and_reduce"
   ]
  },
  {
   "cell_type": "markdown",
   "id": "72e2cce3-28af-467d-b683-f1aaa9a11a71",
   "metadata": {},
   "source": [
    "\n",
    "\n",
    "# reads in functions\n",
    "- Utilities\n",
    "    - `find_peaks(arr,threshold = 0.1 , size=20,axis=-1)`\n",
    "        - finds peaks in arrays\n",
    "    - `get_cosmic_rays(data)`\n",
    "        - zaps cosmic rays in images with weak lines\n",
    "    - `shift_row_interp(A, wave_poly,plot=True,fig=None,axs=None)`\n",
    "        - correct row position offsets. offsets are describes by polynomial `wave_poly`\n",
    "- Data reduction\n",
    "    - `wavelength_cal(peaks,hg,ar,order=1)`\n",
    "        - derive the wavelength calibration using peaks from `find_peaks`\n",
    "    - `specextract(data,bottom=None,top=None,plot=True,fig=None,ax=None)`\n",
    "        - extract regions containing spectrum. if top & bottom are not provided, it will attempt to determine them\n",
    "        - Automatic line finding only works for stars\n",
    "    - `rectify_ccd(cal, order=1, plot=True,fig=None,ax=None)`\n",
    "        - rectify (fix pixel offsets) for the data. output of `rectify` is `wave_poly` and an array with the original offset pixel coordinates\n",
    "    - `get_wavelength_solution(cal,threshold=0.05,size=5,plot=False)`\n",
    "        - quickly get a wavelength solution given a rectified or narrow slice of calibration image\n",
    "    - `reduce(cal_file, data_file, cal_threshold=0.05, bottom = None, top = None,plot=True,clip_cal=False,cosmic_rays=False)`\n",
    "        - Full reduce the data_file using cal_file for wavelength solution. \n",
    "\n",
    "\n",
    "\n",
    "In general one should use the `reduce` function and adjust top,bottom, threshold, to get a good wavelength calibration"
   ]
  },
  {
   "cell_type": "markdown",
   "id": "d3ae4b58-c316-4bea-9045-8ec20e393af8",
   "metadata": {},
   "source": [
    "# Automatic Data Reduction"
   ]
  },
  {
   "cell_type": "code",
   "execution_count": null,
   "id": "fa0145e4-1499-4a4f-8e33-6a661acc42f9",
   "metadata": {},
   "outputs": [],
   "source": [
    "# put in your own files\n",
    "cal_file = data_dir+'/calibration_3_20sec.FIT'\n",
    "data_file = data_dir+'/alcyone_150sec.FIT'\n",
    "\n",
    "# plot = True will show all diagnostic plots\n",
    "# plot = False will only show wavelength calibration and final spectrum\n",
    "out = reduce(cal,data,rectify=True,plot=True)\n"
   ]
  },
  {
   "cell_type": "code",
   "execution_count": null,
   "id": "df1818f5-761a-41bf-8f2e-7766933230bb",
   "metadata": {},
   "outputs": [],
   "source": []
  },
  {
   "cell_type": "code",
   "execution_count": null,
   "id": "ec59dbad-e5c3-4fa4-8e13-56e5146fc4a4",
   "metadata": {},
   "outputs": [],
   "source": []
  },
  {
   "cell_type": "markdown",
   "id": "67d07c44-8ccc-4a5c-81dd-24fbe3356d2e",
   "metadata": {},
   "source": [
    "Below you can walk through each step of the data reduction pipeline. \n",
    "\n",
    "This exposes more parameters and intermediate outputs.\n",
    "\n",
    "This should run with out needing to change anything."
   ]
  },
  {
   "cell_type": "markdown",
   "id": "e7bb0cd2-2848-4b0b-9a52-f4dc73b15167",
   "metadata": {
    "tags": []
   },
   "source": [
    "# 1) Read in data\n",
    "\n",
    "1) Read in your `calibration` and `data` files, and line list"
   ]
  },
  {
   "cell_type": "code",
   "execution_count": null,
   "id": "69188d3c-499a-4e36-86c7-33d5b1a37ca9",
   "metadata": {},
   "outputs": [],
   "source": [
    "# set to true if you want to plot\n",
    "plot = False\n",
    "# load line list and convert to nanometers\n",
    "hg = np.loadtxt('hgar_blue.txt') / 10\n",
    "ar = np.loadtxt('argon_red.txt') / 10 "
   ]
  },
  {
   "cell_type": "code",
   "execution_count": null,
   "id": "8c4963fd-62fe-4520-aeaa-2728e7d86019",
   "metadata": {},
   "outputs": [],
   "source": [
    "# these need to be floats\n",
    "data = fits.getdata(data_file).astype(float)\n",
    "cal = fits.getdata(cal_file).astype(float)\n",
    "\n",
    "if plot:\n",
    "    fig, (ax1, ax2) = plt.subplots(1,2, figsize=(11,4))\n",
    "\n",
    "    norm = mpl.colors.LogNorm(vmin=50,vmax=10000)\n",
    "    ax1.imshow(cal,origin='upper',norm=norm,cmap='magma')\n",
    "    ax1.set_title('Calibration')\n",
    "    ax2.imshow(data,origin='upper',norm=norm,cmap='magma')\n",
    "    ax2.set_title('Data')"
   ]
  },
  {
   "cell_type": "markdown",
   "id": "9e65d189-9470-4fa3-be0b-3789ec20040e",
   "metadata": {
    "tags": []
   },
   "source": [
    "# 2) Rectify the images"
   ]
  },
  {
   "cell_type": "code",
   "execution_count": null,
   "id": "c08a5e7b-9e45-4481-98ea-bcacb5184914",
   "metadata": {},
   "outputs": [],
   "source": [
    "oldcal = cal.copy() # save a copy so we can rerun this cell and show it"
   ]
  },
  {
   "cell_type": "code",
   "execution_count": null,
   "id": "44131370-3fad-4dc5-8e4d-ab0c803163af",
   "metadata": {},
   "outputs": [],
   "source": [
    "# Rectify the data\n",
    "\n",
    "# 1) solve the image plane\n",
    "rect_sol, full_frame_solution = rectify_ccd(oldcal,order=1,plot=False)\n",
    "# 2) apply the found solution\n",
    "cal = shift_row_interp(cal,rect_sol,plot=False)\n",
    "data = shift_row_interp(data,rect_sol,plot=False)\n",
    "\n",
    "if plot:\n",
    "    norm = mpl.colors.LogNorm(vmin=50,vmax=10000)\n",
    "    plt.imshow(oldcal,origin='upper',cmap='magma',norm=norm)\n",
    "    plt.contour(full_frame_solution,colors=['w']) # overlay the unrectified grid\n",
    "\n",
    "\n",
    "    fig, (ax1, ax2) = plt.subplots(1,2, figsize=(11,4))\n",
    "\n",
    "\n",
    "    ax1.imshow(cal,origin='upper',norm=norm,cmap='magma')\n",
    "    ax1.contour(shift_row_interp(full_frame_solution,rect_sol,plot=False),colors='w')\n",
    "    ax1.set_title('Calibration - rectified')\n",
    "    ax2.imshow(data,origin='upper',norm=norm,cmap='magma')\n",
    "    ax2.set_title('Data - rectified')\n"
   ]
  },
  {
   "cell_type": "markdown",
   "id": "4c6f938c-8da1-4513-a1bf-5eae79824ac7",
   "metadata": {},
   "source": [
    "# 3) Get spectral range"
   ]
  },
  {
   "cell_type": "code",
   "execution_count": null,
   "id": "ec52f37b-a73a-4bb6-9878-17d817172cf9",
   "metadata": {},
   "outputs": [],
   "source": [
    "if plot:\n",
    "    fig, (ax1,ax2) = plt.subplots(1,2,figsize=(10,3))\n",
    "else:\n",
    "    ax1, ax2 = None,None\n",
    "\n",
    "\n",
    "# try the manually by inspecting\n",
    "# 'Data-rectified' figure (or just put plt.imshow(data) in a new cell)\n",
    "\n",
    "# specextract has it's own complex plotting routine\n",
    "sl = specextract(data,bottom=100,top=200,plot=plot,ax=ax2)\n",
    "\n",
    "\n",
    "# try the automated way\n",
    "sl = specextract(data,plot=plot,ax=ax1)\n",
    "\n",
    "if plot:\n",
    "    ax2.set_title('manual')\n",
    "    ax1.set_title('automatic')\n"
   ]
  },
  {
   "cell_type": "markdown",
   "id": "605cd973-f221-4af8-aa07-ec89f63ab9b6",
   "metadata": {
    "tags": []
   },
   "source": [
    "# 4) Wavelength calibration"
   ]
  },
  {
   "cell_type": "code",
   "execution_count": null,
   "id": "2f2e8a15-454c-4dc1-be67-4332032ae65e",
   "metadata": {},
   "outputs": [],
   "source": []
  },
  {
   "cell_type": "code",
   "execution_count": null,
   "id": "42cde6cf-7808-46ee-8d47-7d80f2a0b0c6",
   "metadata": {},
   "outputs": [],
   "source": [
    "# load line list and convert to nanometers\n",
    "hg = np.loadtxt('hgar_blue.txt') / 10\n",
    "ar = np.loadtxt('argon_red.txt') / 10 "
   ]
  },
  {
   "cell_type": "code",
   "execution_count": null,
   "id": "3c6bd399-015a-4a7a-a6cd-c899512567c3",
   "metadata": {},
   "outputs": [],
   "source": [
    "# We can run the functions ourselves\n",
    "cal_spec = np.nanmean(cal[sl,:],axis=0)\n",
    "peaks = find_peaks(cal_spec,threshold=.05,size=5,)[0][::-1] # put in wavelength order\n",
    "if plot:\n",
    "    plt.plot(cal_spec)\n",
    "    plt.plot(peaks,cal_spec[peaks],'r.')\n",
    "\n",
    "p = wavelength_cal(peaks,hg,ar)\n",
    "λ = np.polyval(p,np.arange(len(cal_spec)))\n",
    "\n",
    "# or we can use the convenience function\n",
    "p, λ, cal_spec = get_wavelength_solution(cal[sl,:])"
   ]
  },
  {
   "cell_type": "markdown",
   "id": "0399131f-0404-48f0-a950-c16dee82fd05",
   "metadata": {},
   "source": [
    "# 5) Plot target spectrum"
   ]
  },
  {
   "cell_type": "code",
   "execution_count": null,
   "id": "7276afbe-99ca-43b2-b1f2-f1e4ccd8c424",
   "metadata": {},
   "outputs": [],
   "source": [
    "# the 100 accounts for the 100 valued bias/offset\n",
    "spec = np.mean(data[sl,:] -97., axis = 0)\n",
    "noise = np.sqrt(spec)\n",
    "\n",
    "plt.errorbar(λ, spec,noise)"
   ]
  },
  {
   "cell_type": "markdown",
   "id": "feffa22e-c5e8-4708-9a11-880440514b19",
   "metadata": {},
   "source": [
    "# 6) Save the spectrum"
   ]
  },
  {
   "cell_type": "code",
   "execution_count": null,
   "id": "2bc3b9b3-3039-44eb-9071-a92276417f43",
   "metadata": {},
   "outputs": [],
   "source": [
    "out = list(zip(λ,spec,noise))\n",
    "fname = f\"{data_file.replace('.FIT','.tsv')}\""
   ]
  },
  {
   "cell_type": "code",
   "execution_count": null,
   "id": "9be6d331-f394-465d-a0f7-7d26615b6d40",
   "metadata": {},
   "outputs": [],
   "source": [
    "with open(fname,'w') as f:\n",
    "    f.write('wavelength\\tspectrum\\terror\\n')\n",
    "    for i in out:\n",
    "        f.write('{:<9.3f}\\t{:>10.3f}\\t{:>10.3f}\\n'.format(*i))"
   ]
  },
  {
   "cell_type": "code",
   "execution_count": null,
   "id": "8e6af4c6-14b5-4813-a76b-361dad6a5659",
   "metadata": {},
   "outputs": [],
   "source": []
  },
  {
   "cell_type": "code",
   "execution_count": null,
   "id": "4851d652-1e5c-48fe-91da-a2f87d8c46ff",
   "metadata": {},
   "outputs": [],
   "source": [
    "\n",
    "\n"
   ]
  },
  {
   "cell_type": "code",
   "execution_count": null,
   "id": "a35c5528-10f9-448b-bd58-53ea8c7ad59d",
   "metadata": {},
   "outputs": [],
   "source": []
  },
  {
   "cell_type": "code",
   "execution_count": null,
   "id": "9bff1883-e499-427b-b4a1-237986dcefb9",
   "metadata": {},
   "outputs": [],
   "source": [
    "plt.plot(wavesol_planet,(spec_planet),label='Saturn')\n",
    "plt.plot(wavesol_ring,(spec_ring),label='Ring')\n",
    "plt.legend()\n",
    "plt.xlabel('Wavelength [nm]')\n",
    "plt.ylabel('Scaled data units')"
   ]
  },
  {
   "cell_type": "code",
   "execution_count": null,
   "id": "a0897533-6ac0-42d1-8fb0-a9b5b1d88a7b",
   "metadata": {},
   "outputs": [],
   "source": [
    "s = np.ptp(spec_jup)\n",
    "ju.errorbar_fill(wavesol_jup,ju.scale_ptp(spec_jup),noise_jup/s,zorder=0,alpha=0.7)\n",
    "s = np.ptp(spec_io)\n",
    "ju.errorbar_fill(wavesol_io,ju.scale_ptp(spec_io),noise_io/s,zorder=1,alpha=0.7)"
   ]
  },
  {
   "cell_type": "code",
   "execution_count": null,
   "id": "c3ab84eb-5bc6-49bd-b765-d9274cc31687",
   "metadata": {},
   "outputs": [],
   "source": [
    "cal = data_dir+'/calibration_3_20sec.FIT'\n",
    "data = data_dir+'/orion_nebulosity_150sec.FIT'\n",
    "\n",
    "λ,spec,err = reduce(cal,data,bottom=0,top=510,rectify=True,plot=False,)\n",
    "\n",
    "data = data_dir+'/alcyone_150sec.FIT'\n",
    "λ,spec,err = reduce(cal,data,rectify=True,plot=False,)\n"
   ]
  },
  {
   "cell_type": "code",
   "execution_count": null,
   "id": "86515825-7314-4cd5-909d-ebb3ce07f265",
   "metadata": {},
   "outputs": [],
   "source": [
    "def findback1d(image,s=31,fill=0,experimental=False):\n",
    "    image = np.copy(image)\n",
    "    oldnan = np.isnan(image)\n",
    "    \n",
    "    sp = s + s//4\n",
    "    sp = sp+1 if sp%2==0 else sp\n",
    "    s1 = sp//2\n",
    "    s1 = s1+1 if s1%2==0 else s1\n",
    "    s2 = s1//2\n",
    "    arr=np.ones((sp,))\n",
    "    arr[s1-s2:s1+s2]=0\n",
    "    expand =convolve_fft(image,kernels.CustomKernel(arr),boundary='wrap')\n",
    "    image[np.isnan(image)] = expand[np.isnan(image)]\n",
    "    \n",
    "    #image[oldnan] = fill\n",
    "    s = int(s)\n",
    "    s = s+1 if s%2==0 else s\n",
    "    bkg_min = ndimage.minimum_filter(image,size=(s,))\n",
    "    bkg_max = ndimage.maximum_filter(bkg_min,size=(s,))\n",
    "    kernel = kernels.Box1DKernel(s)\n",
    "    bkg_mean = convolve(bkg_max,kernel,boundary='extend',)\n",
    "    \n",
    "    \n",
    "    if experimental:\n",
    "        bkg_mean = np.min(np.vstack([[bkg_max],[bkg_mean]]),axis=0)\n",
    "        bkg_new = np.copy(bkg_mean)\n",
    "        #print(bkg_new.shape)\n",
    "        s=s//2\n",
    "        while s>2:\n",
    "            s = s+1 if s%2==0 else s\n",
    "            kernel2 = kernels.Box1DKernel(s)\n",
    "            bkg_mean = convolve_fft(bkg_new,kernel2,boundary='wrap')\n",
    "            bkg_new = np.min(np.array([bkg_mean,bkg_new]),axis=0)\n",
    "            s=s//2\n",
    "\n",
    "        bkg_new = np.min(np.vstack([[bkg_mean],[bkg_new]]),axis=0)\n",
    "        kernel3 = kernels.CustomKernel(np.ones((1,)))\n",
    "        kernel3.normalize()\n",
    "        bkg_mean = convolve_fft(bkg_new,kernel,boundary='wrap')\n",
    "    \n",
    "    \n",
    "    bkg = bkg_mean\n",
    "    \n",
    "    \n",
    "    bkg[oldnan] = np.nan\n",
    "\n",
    "    return bkg\n",
    "\n",
    "\n"
   ]
  },
  {
   "cell_type": "code",
   "execution_count": null,
   "id": "20b38bae-1a55-4162-a453-be504905c481",
   "metadata": {},
   "outputs": [],
   "source": []
  },
  {
   "cell_type": "code",
   "execution_count": null,
   "id": "41067c1e-fd30-4423-9f21-581c06a6395e",
   "metadata": {},
   "outputs": [],
   "source": [
    "def get_wavelength_solution(cal,threshold=0.05,size=5,plot=False):\n",
    "    if isinstance(cal,str):\n",
    "        cal = fits.getdata(cal)\n",
    "        \n",
    "    wavesol, _ = rectify_ccd(cal,plot=plot)\n",
    "    rect = shift_row_interp(cal,wavesol,plot=plot)\n",
    "    cal_spec = np.nanmean(rect,axis=0)\n",
    "    peaks = find_peaks(cal_spec,threshold=threshold,size=size,)[0][::-1] # put in wavelength order\n",
    "    p = wavelength_cal(peaks,hg,ar)\n",
    "    λ = np.polyval(p,np.arange(rect.shape[1]))\n",
    "    return p, λ, rect"
   ]
  },
  {
   "cell_type": "code",
   "execution_count": null,
   "id": "63253afb-1443-4f4a-bee5-b0b5d5dbf72c",
   "metadata": {},
   "outputs": [],
   "source": []
  },
  {
   "cell_type": "code",
   "execution_count": null,
   "id": "8aefb3e1-4cde-4ce5-9a43-0dfdc4acaba4",
   "metadata": {},
   "outputs": [],
   "source": [
    "back = findback1d(np.mean(rect,axis=0),s=50,experimental=False)"
   ]
  },
  {
   "cell_type": "code",
   "execution_count": null,
   "id": "c1e2ba90-05f5-4e75-a9ae-27a2a45e4460",
   "metadata": {},
   "outputs": [],
   "source": [
    "tellurics = np.loadtxt('atmabs.txt',skiprows=4)"
   ]
  },
  {
   "cell_type": "code",
   "execution_count": null,
   "id": "8b9b61bb-65bf-431d-8ec4-4aa3f42e7c96",
   "metadata": {},
   "outputs": [],
   "source": [
    "kde=stats.gaussian_kde(tellurics[:,3]/10,weights=1-tellurics[:,2],bw_method=.007)\n",
    "tell_x = np.linspace(200,1000,10000)"
   ]
  },
  {
   "cell_type": "code",
   "execution_count": null,
   "id": "0cca70e2-6a4a-4ba1-ad93-084e6a91f78c",
   "metadata": {},
   "outputs": [],
   "source": [
    "plt.figure(figsize=(9,3),facecolor='w')\n",
    "plt.plot(λ,np.mean(rect-np.median(rect),axis=0),'k',zorder=1,label='Calibration Spectrum')\n",
    "plt.fill_between(tell_x,400*ju.scale_ptp(kde(tell_x)),lw=1,zorder=2,color='C0',alpha=0.5,label='Tellurics')\n",
    "#plt.bar(tellurics[:,3]/10,1-tellurics[:,2],width=(tellurics[:,1]-tellurics[:,0])/10)\n",
    "# for t in tellurics:\n",
    "#     plt.axvspan(t[0]/10,t[1]/10,t[2]+.1,1,color='C4',zorder=0)\n",
    "for c in hg:\n",
    "    plt.axvline(c,0,.075,color='dodgerblue',lw=2,zorder=0)\n",
    "for c in ar:\n",
    "    plt.axvline(c,0,.075,color='indianred',lw=2,zorder=0)\n",
    "#plt.xlim(650,750)\n",
    "plt.xlim(500,800)\n",
    "plt.ylim(-20,300)\n",
    "plt.xlabel('Wavelength [nm]')\n",
    "plt.legend(loc='upper left')\n",
    "plt.savefig('Calibation_spectrum_with_tellurics.png',transparent=False)"
   ]
  },
  {
   "cell_type": "code",
   "execution_count": null,
   "id": "441463b8-b3a1-48b5-8c43-35f4087296f7",
   "metadata": {},
   "outputs": [],
   "source": []
  },
  {
   "cell_type": "code",
   "execution_count": null,
   "id": "1241df80-0ba0-49c1-8abd-992473db34a8",
   "metadata": {},
   "outputs": [],
   "source": []
  }
 ],
 "metadata": {
  "kernelspec": {
   "display_name": "Python 3",
   "language": "python",
   "name": "python3"
  },
  "language_info": {
   "codemirror_mode": {
    "name": "ipython",
    "version": 3
   },
   "file_extension": ".py",
   "mimetype": "text/x-python",
   "name": "python",
   "nbconvert_exporter": "python",
   "pygments_lexer": "ipython3",
   "version": "3.7.11"
  }
 },
 "nbformat": 4,
 "nbformat_minor": 5
}
